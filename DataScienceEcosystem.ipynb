{
 "cells": [
  {
   "cell_type": "markdown",
   "id": "5be95889-cede-441b-96d2-c8d47251bb16",
   "metadata": {},
   "source": [
    "# Data Science Tools and Ecosystem"
   ]
  },
  {
   "cell_type": "markdown",
   "id": "18c5d2fc-22b5-4e1a-b039-9b7ea06e3d5a",
   "metadata": {},
   "source": [
    "In this notebook, Data Science Tools and Ecosystem are summarized."
   ]
  },
  {
   "cell_type": "markdown",
   "id": "f8f9bbfa-56b0-4f4b-8e49-c9049603262e",
   "metadata": {},
   "source": [
    "**Objectives:**\n",
    "\n",
    "+ List popular languages for Data Science.\n",
    "+ List some of the commonly used libraries in Data Science.\n",
    "+ List Data Science environments.\n",
    "+ Show examples of arithmetic expressions evaluation in Python."
   ]
  },
  {
   "cell_type": "markdown",
   "id": "4d0ae75f-83cf-40a1-983b-57be72707907",
   "metadata": {},
   "source": [
    "Some of the popular languages that Data Scientists use are:\n",
    "1. Python\n",
    "2. R\n",
    "3. Java Script\n",
    "4. Java\n",
    "5. SQL\n",
    "6. C++"
   ]
  },
  {
   "cell_type": "markdown",
   "id": "f4fb4621-8700-4972-8a89-3dd7d8594f06",
   "metadata": {},
   "source": [
    "Some of the commonly used libraries used by Data Scientists include:\n",
    "1. Pandas\n",
    "2. NumPy\n",
    "3. Matplotlib\n",
    "4. Seaborn\n",
    "5. Scikit-learn\n",
    "6. Keras"
   ]
  },
  {
   "cell_type": "markdown",
   "id": "c3dabed1-faa1-4022-9429-260d6d319ab6",
   "metadata": {},
   "source": [
    "| Data Science Tools |\n",
    "|--------------------|\n",
    "| Jupyter Notebooks  |\n",
    "| R Studio           |\n",
    "| Anaconda           |"
   ]
  },
  {
   "cell_type": "markdown",
   "id": "0b70693f-9f71-47dd-9790-7de1d02b98f2",
   "metadata": {},
   "source": [
    "### Below are a few examples of evaluating arithmetic expressions in Python."
   ]
  },
  {
   "cell_type": "code",
   "execution_count": 2,
   "id": "bc49e754-6981-441c-8444-534444ec16bb",
   "metadata": {
    "tags": []
   },
   "outputs": [
    {
     "data": {
      "text/plain": [
       "17"
      ]
     },
     "execution_count": 2,
     "metadata": {},
     "output_type": "execute_result"
    }
   ],
   "source": [
    "# This a simple arithmetic expression to mutiply then add integers.\n",
    "(3*4)+5"
   ]
  },
  {
   "cell_type": "code",
   "execution_count": 3,
   "id": "f4b023af-f90c-4ea9-ab56-5aea8a89a75b",
   "metadata": {
    "tags": []
   },
   "outputs": [
    {
     "data": {
      "text/plain": [
       "3.3333333333333335"
      ]
     },
     "execution_count": 3,
     "metadata": {},
     "output_type": "execute_result"
    }
   ],
   "source": [
    "# This will convert 200 minutes to hours by diving by 60.\n",
    "time_mins = 200\n",
    "time_hours = time_mins/60\n",
    "time_hours"
   ]
  },
  {
   "cell_type": "markdown",
   "id": "becf26a7-2342-4da7-ae16-3797cf1c072b",
   "metadata": {},
   "source": [
    "## Author\n",
    "\n",
    "Hillary T. Mudara"
   ]
  },
  {
   "cell_type": "code",
   "execution_count": null,
   "id": "2e681355-c441-467f-a5ff-8601b4b62c12",
   "metadata": {},
   "outputs": [],
   "source": []
  }
 ],
 "metadata": {
  "kernelspec": {
   "display_name": "Python",
   "language": "python",
   "name": "conda-env-python-py"
  },
  "language_info": {
   "codemirror_mode": {
    "name": "ipython",
    "version": 3
   },
   "file_extension": ".py",
   "mimetype": "text/x-python",
   "name": "python",
   "nbconvert_exporter": "python",
   "pygments_lexer": "ipython3",
   "version": "3.7.12"
  }
 },
 "nbformat": 4,
 "nbformat_minor": 5
}
